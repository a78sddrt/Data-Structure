{
  "nbformat": 4,
  "nbformat_minor": 0,
  "metadata": {
    "colab": {
      "provenance": [],
      "authorship_tag": "ABX9TyM+JZjdVJSrJ/gbbulVpZq3",
      "include_colab_link": true
    },
    "kernelspec": {
      "name": "python3",
      "display_name": "Python 3"
    },
    "language_info": {
      "name": "python"
    }
  },
  "cells": [
    {
      "cell_type": "markdown",
      "metadata": {
        "id": "view-in-github",
        "colab_type": "text"
      },
      "source": [
        "<a href=\"https://colab.research.google.com/github/a78sddrt/Data-Structure/blob/main/hash_table.ipynb\" target=\"_parent\"><img src=\"https://colab.research.google.com/assets/colab-badge.svg\" alt=\"Open In Colab\"/></a>"
      ]
    },
    {
      "cell_type": "code",
      "execution_count": null,
      "metadata": {
        "id": "Ir54ZwVQSYTg"
      },
      "outputs": [],
      "source": [
        "#hash table implementation using python\n",
        "class Node():\n",
        "  def __init__(self,key=None, val=None):\n",
        "    self.key=key\n",
        "    self.val=val\n",
        "    self.next=None\n",
        "\n",
        "class HashTable():\n",
        "  def __init__(self, size):\n",
        "    self.size=size\n",
        "    self.values=[None]*size\n",
        "    self.length=0\n",
        "\n",
        "  #the implementation of hash function\n",
        "  def hash(self, key, size):\n",
        "    return sum([ord(key[i]) for i in range(len(key))]) % size\n",
        "\n",
        "  #add data to the hash table\n",
        "  def add(self, key, value):\n",
        "    index=self.hash(key, self.size)\n",
        "    if not self.values[index]:\n",
        "      self.values[index]=Node(key,value)\n",
        "    else:\n",
        "      current=self.values[index]\n",
        "      if current.key==key:\n",
        "        print(\"Data is already in the table\")\n",
        "        return\n",
        "      while current.next:\n",
        "        current=current.next\n",
        "        if current.key==key:\n",
        "          print(\"Data is already in the table\")\n",
        "          return\n",
        "      current.next=Node(key, value)\n",
        "\n",
        "  def search(self, key):\n",
        "    index=self.hash(key, self.size)\n",
        "    current=self.values[index]\n",
        "    while current:\n",
        "      if current.key==key:\n",
        "        return current.val\n",
        "      current=current.next\n",
        "    return \"Data is not found\"\n",
        "\n",
        "  def remove(self, key):\n",
        "    index=self.hash(key, self.size)\n",
        "    dummy=current=self.values[index]\n",
        "    if current.key==key:\n",
        "      self.values[index]=self.values[index].next\n",
        "      print(\"Deleted\")\n",
        "      return\n",
        "    current=current.next\n",
        "    while current:\n",
        "      if current.key==key:\n",
        "        dummy.next=current.next\n",
        "        print(\"Deleted\")\n",
        "        return\n",
        "      dummy=dummy.next\n",
        "      current=current.next\n",
        "    print(\"Data is not in the table\")\n",
        "    return\n",
        "\n"
      ]
    },
    {
      "cell_type": "code",
      "source": [
        "h=HashTable(1)\n",
        "h.size\n",
        "h.add('Grothendieck', '1970')\n",
        "h.add('Euler', '1670')\n",
        "h.add('Galois', '1870')\n"
      ],
      "metadata": {
        "id": "02vZxPvNdJ3w"
      },
      "execution_count": null,
      "outputs": []
    },
    {
      "cell_type": "code",
      "source": [
        "h.add('Grothendieck', '9')"
      ],
      "metadata": {
        "colab": {
          "base_uri": "https://localhost:8080/"
        },
        "id": "IvAi8Kjed9B3",
        "outputId": "52556fe8-5f2e-475f-e816-e0567429613a"
      },
      "execution_count": null,
      "outputs": [
        {
          "output_type": "stream",
          "name": "stdout",
          "text": [
            "Data is already in the table\n"
          ]
        }
      ]
    },
    {
      "cell_type": "code",
      "source": [
        "h.add('Grothendieck','1999')\n",
        "h.add('Gro','1999')\n",
        "h.add('Mac','1999')\n",
        "h.add('Dan','1999')"
      ],
      "metadata": {
        "colab": {
          "base_uri": "https://localhost:8080/"
        },
        "id": "7U0R1Peeen0K",
        "outputId": "97c4f343-3ac8-4038-d2df-259daa0f71d7"
      },
      "execution_count": null,
      "outputs": [
        {
          "output_type": "stream",
          "name": "stdout",
          "text": [
            "Data is already in the table\n"
          ]
        }
      ]
    },
    {
      "cell_type": "code",
      "source": [
        "h.remove('Dan')"
      ],
      "metadata": {
        "colab": {
          "base_uri": "https://localhost:8080/"
        },
        "id": "YzJaEPL9pDm9",
        "outputId": "6690226a-726e-4576-a6f2-984a1ffd5fe9"
      },
      "execution_count": null,
      "outputs": [
        {
          "output_type": "stream",
          "name": "stdout",
          "text": [
            "Deleted\n"
          ]
        }
      ]
    },
    {
      "cell_type": "code",
      "source": [
        "print(h.search('Dan'))\n",
        "print(h.search('Gro'))"
      ],
      "metadata": {
        "colab": {
          "base_uri": "https://localhost:8080/"
        },
        "id": "Nk7sRav-tiwq",
        "outputId": "fbfdc525-5fa6-4900-bc82-f701c51d039b"
      },
      "execution_count": null,
      "outputs": [
        {
          "output_type": "stream",
          "name": "stdout",
          "text": [
            "Data is not found\n",
            "1999\n"
          ]
        }
      ]
    }
  ]
}