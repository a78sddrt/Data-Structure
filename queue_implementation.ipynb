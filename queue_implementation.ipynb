{
  "nbformat": 4,
  "nbformat_minor": 0,
  "metadata": {
    "colab": {
      "provenance": [],
      "authorship_tag": "ABX9TyPjpaVu2iAUc4eXjQZC+P9A",
      "include_colab_link": true
    },
    "kernelspec": {
      "name": "python3",
      "display_name": "Python 3"
    },
    "language_info": {
      "name": "python"
    }
  },
  "cells": [
    {
      "cell_type": "markdown",
      "metadata": {
        "id": "view-in-github",
        "colab_type": "text"
      },
      "source": [
        "<a href=\"https://colab.research.google.com/github/a78sddrt/Data-Structure/blob/main/queue_implementation.ipynb\" target=\"_parent\"><img src=\"https://colab.research.google.com/assets/colab-badge.svg\" alt=\"Open In Colab\"/></a>"
      ]
    },
    {
      "cell_type": "code",
      "execution_count": null,
      "metadata": {
        "id": "iBXzrP8Uj3Wd"
      },
      "outputs": [],
      "source": [
        "#Queue implementation using python\n",
        "\n",
        "class queue():\n",
        "  def __init__(self, list=list()):\n",
        "    self.list=list\n",
        "\n",
        "  #add element\n",
        "  def enqueue(self,val):\n",
        "    self.list.append(val)\n",
        "\n",
        "  #delete element\n",
        "  def dequeue(self):\n",
        "    self.list.pop(0)\n",
        "\n",
        "  #the element on the top\n",
        "  def peek(self):\n",
        "    return self.list[0]\n",
        "\n",
        "  def size(self):\n",
        "    return len(self.list)\n",
        "\n",
        "  def print(self):\n",
        "    print(q1.list)\n",
        "\n",
        "\n"
      ]
    },
    {
      "cell_type": "code",
      "source": [
        "q1=queue()"
      ],
      "metadata": {
        "id": "SeNbgZgFlSfx"
      },
      "execution_count": null,
      "outputs": []
    },
    {
      "cell_type": "code",
      "source": [
        "q1.list=[1,2,3,4,5]"
      ],
      "metadata": {
        "id": "hd7EA9kQoi7Z"
      },
      "execution_count": null,
      "outputs": []
    },
    {
      "cell_type": "code",
      "source": [
        "q1.dequeue()\n"
      ],
      "metadata": {
        "id": "lDp9sOxgqAV3"
      },
      "execution_count": null,
      "outputs": []
    },
    {
      "cell_type": "code",
      "source": [
        "q1.print()\n",
        "q1.size()\n",
        "print(q1.peek())"
      ],
      "metadata": {
        "colab": {
          "base_uri": "https://localhost:8080/"
        },
        "id": "6aphzy1CqHwB",
        "outputId": "476a50cb-0a7e-4baa-a103-4d6571a23a30"
      },
      "execution_count": null,
      "outputs": [
        {
          "output_type": "stream",
          "name": "stdout",
          "text": [
            "[2, 3, 4, 5]\n",
            "2\n"
          ]
        }
      ]
    }
  ]
}