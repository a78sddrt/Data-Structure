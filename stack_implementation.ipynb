{
  "nbformat": 4,
  "nbformat_minor": 0,
  "metadata": {
    "colab": {
      "provenance": [],
      "authorship_tag": "ABX9TyMzevHG6puMownHmSk0RlDV",
      "include_colab_link": true
    },
    "kernelspec": {
      "name": "python3",
      "display_name": "Python 3"
    },
    "language_info": {
      "name": "python"
    }
  },
  "cells": [
    {
      "cell_type": "markdown",
      "metadata": {
        "id": "view-in-github",
        "colab_type": "text"
      },
      "source": [
        "<a href=\"https://colab.research.google.com/github/a78sddrt/Data-Structure/blob/main/stack_implementation.ipynb\" target=\"_parent\"><img src=\"https://colab.research.google.com/assets/colab-badge.svg\" alt=\"Open In Colab\"/></a>"
      ]
    },
    {
      "cell_type": "code",
      "execution_count": null,
      "metadata": {
        "id": "1BYahfV69wW4"
      },
      "outputs": [],
      "source": [
        "#stack implementation in python\n",
        "#use linkedlist\n",
        "\n",
        "class Stack():\n",
        "  def __init__(self, val=None, next=None):\n",
        "    self.val=val\n",
        "    self.next=next\n",
        "\n",
        "class LinkedStack():\n",
        "  def __init__(self, top=None):\n",
        "    self.top=top\n",
        "\n",
        "  def push(self,val):\n",
        "    if self.top is None:\n",
        "      self.top=Stack(val)\n",
        "    else:\n",
        "      current=Stack(val)\n",
        "      current.next=self.top\n",
        "      self.top=current\n",
        "\n",
        "  def pop(self):\n",
        "    if self.top is None:\n",
        "      return None\n",
        "    else:\n",
        "      self.top=self.top.next\n",
        "      return\n",
        "\n",
        "  def peek(self):\n",
        "    if self.top is None:\n",
        "      return None\n",
        "    else:\n",
        "      return self.top.val\n",
        "\n",
        "  def size(self):\n",
        "    if self.top is None:\n",
        "      return 0\n",
        "    else:\n",
        "      count=0\n",
        "      current=self.top\n",
        "      while current:\n",
        "        count+=1\n",
        "        current=current.next\n",
        "      return count\n"
      ]
    },
    {
      "cell_type": "code",
      "source": [
        "stack=LinkedStack()\n",
        "print(stack.peek())\n",
        "stack.push(2)\n",
        "print(stack.peek())\n",
        "stack.push(3)\n",
        "print(stack.peek())\n",
        "stack.pop()\n",
        "\n",
        "print(stack.peek())"
      ],
      "metadata": {
        "colab": {
          "base_uri": "https://localhost:8080/"
        },
        "id": "NCUbdOBgFGjz",
        "outputId": "0aa55de3-bdb1-48b4-c7b9-6493a794f1a6"
      },
      "execution_count": null,
      "outputs": [
        {
          "output_type": "stream",
          "name": "stdout",
          "text": [
            "None\n",
            "2\n",
            "3\n",
            "2\n"
          ]
        }
      ]
    }
  ]
}