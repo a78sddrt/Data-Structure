{
  "nbformat": 4,
  "nbformat_minor": 0,
  "metadata": {
    "colab": {
      "provenance": [],
      "authorship_tag": "ABX9TyNLbDG+ekzfIZRyxbBRoSz7",
      "include_colab_link": true
    },
    "kernelspec": {
      "name": "python3",
      "display_name": "Python 3"
    },
    "language_info": {
      "name": "python"
    }
  },
  "cells": [
    {
      "cell_type": "markdown",
      "metadata": {
        "id": "view-in-github",
        "colab_type": "text"
      },
      "source": [
        "<a href=\"https://colab.research.google.com/github/a78sddrt/Data-Structure/blob/main/Linked_List_Implementation.ipynb\" target=\"_parent\"><img src=\"https://colab.research.google.com/assets/colab-badge.svg\" alt=\"Open In Colab\"/></a>"
      ]
    },
    {
      "cell_type": "code",
      "execution_count": null,
      "metadata": {
        "id": "Z68uPmXm8Awf"
      },
      "outputs": [],
      "source": [
        "#Linked List use python\n",
        "\n",
        "class ListNode():\n",
        "  def __init__(self, val=0, next=None):\n",
        "    self.val=val\n",
        "    self.next=next\n",
        "\n",
        "class LinkedList():\n",
        "  def __init__(self, head=None):\n",
        "    self.head=head\n",
        "\n",
        "  def append(self,val):\n",
        "    if self.head is None:\n",
        "      self.head=ListNode(val)\n",
        "    else:\n",
        "      current=self.head\n",
        "      while current.next is not None:\n",
        "        current=current.next\n",
        "      current.next=ListNode(val)\n",
        "      return\n",
        "\n",
        "  def size(self):\n",
        "    current=self.head\n",
        "    count=0\n",
        "    while current:\n",
        "      current=current.next\n",
        "      count+=1\n",
        "    return count\n",
        "\n",
        "  def isEmpty(self):\n",
        "    return self.head is None\n",
        "\n",
        "\n",
        "  def insert(self, index, val):\n",
        "    if index<0 or index>=self.size():\n",
        "      return\n",
        "    insertnode=ListNode(val)\n",
        "    current=self.head\n",
        "    count=0\n",
        "    if index==0:\n",
        "      insertnode.next=self.head\n",
        "      self.head=insertnode\n",
        "    while count<index-1:\n",
        "      current=current.next\n",
        "      count+=1\n",
        "    insertnode.next=current.next\n",
        "    current.next=insertnode\n",
        "\n",
        "  def removeAt(self, index):\n",
        "    if not self.head:\n",
        "      return\n",
        "    if index==0:\n",
        "      self=self.next\n",
        "      return\n",
        "    count=0\n",
        "    current=current2=self.head\n",
        "    current2=current2.next\n",
        "    while count<index-1:\n",
        "      count+=1\n",
        "      current=current.next\n",
        "      current2=current2.next\n",
        "    current.next=current2.next\n",
        "    return\n",
        "\n",
        "  #刪除特定資料節點\n",
        "  def remove(self,val):\n",
        "    current=self.head\n",
        "    dummy=newlist=ListNode()\n",
        "    while current:\n",
        "      while current.val==val:\n",
        "        current=current.next\n",
        "        if not current:\n",
        "          break\n",
        "      newlist.next=current\n",
        "      if not current:\n",
        "          break\n",
        "      newlist=newlist.next\n",
        "      current=current.next\n",
        "    self.head=dummy.next\n",
        "    return\n",
        "\n",
        "  def indexof(self, val):\n",
        "    index=0\n",
        "    current=self.head\n",
        "    while current.val!=val:\n",
        "        index+=1\n",
        "        current=current.next\n",
        "        if not current:\n",
        "          return -1\n",
        "    return index\n",
        "\n",
        "\n",
        "\n",
        "  def print(self):\n",
        "    current=self.head\n",
        "    if not self.head:\n",
        "      print(self.head)\n",
        "    while current:\n",
        "      print(current.val, end=\",\")\n",
        "      current=current.next\n",
        "\n",
        "\n"
      ]
    },
    {
      "cell_type": "code",
      "source": [
        "list1=LinkedList()\n",
        "list1.append(10)\n",
        "list1.append(10)\n",
        "list1.append(10)\n",
        "list1.insert(1,3)\n",
        "\n"
      ],
      "metadata": {
        "id": "oZlGaKAiNel6"
      },
      "execution_count": null,
      "outputs": []
    },
    {
      "cell_type": "code",
      "source": [
        "list1.insert(3,500)\n",
        "list1.indexof(500)"
      ],
      "metadata": {
        "colab": {
          "base_uri": "https://localhost:8080/"
        },
        "id": "DJWj8GUZinsD",
        "outputId": "dd825897-2e6d-44dd-bb7f-0d9249b8e141"
      },
      "execution_count": null,
      "outputs": [
        {
          "output_type": "execute_result",
          "data": {
            "text/plain": [
              "3"
            ]
          },
          "metadata": {},
          "execution_count": 37
        }
      ]
    },
    {
      "cell_type": "code",
      "source": [
        "list1.indexof(10)"
      ],
      "metadata": {
        "colab": {
          "base_uri": "https://localhost:8080/"
        },
        "id": "pYuW55Yliz1e",
        "outputId": "73bd1092-db5f-43ab-8bf5-9fa814a3c4bf"
      },
      "execution_count": null,
      "outputs": [
        {
          "output_type": "execute_result",
          "data": {
            "text/plain": [
              "0"
            ]
          },
          "metadata": {},
          "execution_count": 38
        }
      ]
    },
    {
      "cell_type": "code",
      "source": [
        "list1.append(100)"
      ],
      "metadata": {
        "id": "s8v9arh0i7k6"
      },
      "execution_count": null,
      "outputs": []
    },
    {
      "cell_type": "code",
      "source": [
        "list1.indexof(100)\n",
        "list1.print()"
      ],
      "metadata": {
        "colab": {
          "base_uri": "https://localhost:8080/"
        },
        "id": "hVRTFviyjLuZ",
        "outputId": "eca25942-f237-4856-d475-bdcba0abe52a"
      },
      "execution_count": null,
      "outputs": [
        {
          "output_type": "stream",
          "name": "stdout",
          "text": [
            "10,3,10,500,10,100,"
          ]
        }
      ]
    }
  ]
}